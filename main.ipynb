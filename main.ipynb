{
 "cells": [
  {
   "cell_type": "code",
   "execution_count": 3,
   "id": "5dbb5956-8b61-4a95-b3ce-a41c6d606d6c",
   "metadata": {},
   "outputs": [],
   "source": [
    "import Convert.convert as cv\n",
    "import Mathematic.math as mt\n",
    "import ConvertV2.conV2 as cv2"
   ]
  },
  {
   "cell_type": "code",
   "execution_count": null,
   "id": "9c57a31a-40c2-4b9c-ba81-398601560a6d",
   "metadata": {},
   "outputs": [
    {
     "name": "stdout",
     "output_type": "stream",
     "text": [
      "\n",
      "    1. Aritmatika\n",
      "    2. konversi\n",
      "    3. Ubah Bilangan\n",
      "    4. Keluar\n",
      "\n",
      "    \n",
      "    \n"
     ]
    },
    {
     "name": "stdin",
     "output_type": "stream",
     "text": [
      "isikan Pilihan:  3\n"
     ]
    },
    {
     "name": "stdout",
     "output_type": "stream",
     "text": [
      "\n",
      "    1. Desimal to Biner\n",
      "    2. Desimal to Oktal\n",
      "    3. Desimal to Hexadesimal\n",
      "    \n"
     ]
    },
    {
     "name": "stdin",
     "output_type": "stream",
     "text": [
      "Pilih Fitur:  1\n",
      "Masukkan bilangan desimal:  13\n"
     ]
    },
    {
     "name": "stdout",
     "output_type": "stream",
     "text": [
      "13 dalam biner: 0b1101\n",
      "\n",
      "    1. Aritmatika\n",
      "    2. konversi\n",
      "    3. Ubah Bilangan\n",
      "    4. Keluar\n",
      "\n",
      "    \n",
      "    \n"
     ]
    }
   ],
   "source": [
    "def menuUtama():\n",
    "    print(\"\"\"\n",
    "    1. Aritmatika\n",
    "    2. konversi\n",
    "    3. Ubah Bilangan\n",
    "    4. Keluar\n",
    "\n",
    "    \n",
    "    \"\"\")\n",
    "\n",
    "def menuMathematic():\n",
    "    print(\"\"\"\n",
    "    1. Tambah\n",
    "    2. Pangkat\n",
    "    3. Kali\n",
    "    \"\"\")\n",
    "\n",
    "def menuConvert():\n",
    "    print(\"\"\"\n",
    "    1. CM to Meter\n",
    "    2. Meter to CM\n",
    "    \"\"\")\n",
    "\n",
    "def menuUbahBilangan():\n",
    "    print(\"\"\"\n",
    "    1. Desimal to Biner\n",
    "    2. Desimal to Oktal\n",
    "    3. Desimal to Hexadesimal\n",
    "    \"\"\")\n",
    "\n",
    "while True:\n",
    "    menuUtama()\n",
    "    pilihMenu = int(input(\"isikan Pilihan: \"))\n",
    "    if pilihMenu == 1:\n",
    "\n",
    "        menuMathematic()\n",
    "        pilihFitur = int(input(\"Pilih Fitur: \"))\n",
    "        if pilihFitur == 1:\n",
    "            angka1 = int(input(\"isikan angka 1: \"))\n",
    "            angka2 = int(input(\"isikan angka 2: \"))\n",
    "            add = mt.addNumber(angka1,angka2)\n",
    "            print(f\"Hasil penjumlahan {angka1} dan {angka2} : {add}\")\n",
    "            \n",
    "        elif pilihFitur == 2:\n",
    "            angka1 = int(input(\"isikan angka 1: \"))\n",
    "            angka2 = int(input(\"isikan angka 2: \"))\n",
    "  \n",
    "            pow = mt.powNumber(angka1,angka2)\n",
    "            print(f\"Hasil dari {angka1} pangkat {angka2} : {pow}\")\n",
    "\n",
    "        elif pilihFitur == 3:\n",
    "            angka1 = int(input(\"isikan angka 1: \"))\n",
    "            angka2 = int(input(\"isikan angka 2: \"))\n",
    "            mul = mt.mulNumber(angka1,angka2)\n",
    "            print(f\"Hasil perkalian {angka1} dan {angka2} : {mul}\")\n",
    "        else:\n",
    "            print(\"Thank You !!!\")\n",
    "            break\n",
    "    elif pilihMenu == 2:     \n",
    "        menuConvert()\n",
    "        pilihFitur = int(input(\"Pilih Fitur: \"))\n",
    "        if pilihFitur == 1:\n",
    "            pjgCM = int(input(\"Isikan panjang (cm) : \"))\n",
    "            pjgMt = cv.cmToMeter(pjgCM)\n",
    "            print(f\"Panjang dalam meter : {pjgMt}\")\n",
    "        elif pilihFitur == 2:\n",
    "            pjgMt = int(input(\"Isikan panjang (Meter) : \"))\n",
    "            pjgCM = cv.meterToCm(pjgMt)\n",
    "            print(f\"Panjang dalam centimeter : {pjgCM}\")\n",
    "        else:\n",
    "            print(\"Thank You !!!\")\n",
    "            break\n",
    "    elif pilihMenu == 3:\n",
    "        menuUbahBilangan()\n",
    "        pilihFitur = input(\"Pilih Fitur: \")\n",
    "    \n",
    "    if pilihFitur == \"1\":\n",
    "        angka = int(input(\"Masukkan bilangan desimal: \"))\n",
    "        hasil = cv2.desToBin(angka)\n",
    "        print(f\"{angka} dalam biner: {hasil}\")\n",
    "    elif pilihFitur == \"2\":\n",
    "        angka = int(input(\"Masukkan bilangan desimal: \"))\n",
    "        hasil = cv2.desToOkta(angka)\n",
    "        print(f\"{angka} dalam oktal: {hasil}\")\n",
    "    elif pilihFitur == \"3\":\n",
    "        angka = int(input(\"Masukkan bilangan desimal: \"))\n",
    "        hasil = cv2.desToHex(angka)\n",
    "        print(f\"{angka} dalam hexadesimal: {hasil}\")\n",
    "\n",
    "\n",
    "        \n",
    "    else:\n",
    "        print(\"leave\")\n",
    "        break"
   ]
  },
  {
   "cell_type": "code",
   "execution_count": null,
   "id": "ab7f0d48-8884-4d64-b2da-cb9f6cd92dfb",
   "metadata": {},
   "outputs": [],
   "source": []
  }
 ],
 "metadata": {
  "kernelspec": {
   "display_name": "Python [conda env:base] *",
   "language": "python",
   "name": "conda-base-py"
  },
  "language_info": {
   "codemirror_mode": {
    "name": "ipython",
    "version": 3
   },
   "file_extension": ".py",
   "mimetype": "text/x-python",
   "name": "python",
   "nbconvert_exporter": "python",
   "pygments_lexer": "ipython3",
   "version": "3.12.7"
  }
 },
 "nbformat": 4,
 "nbformat_minor": 5
}
